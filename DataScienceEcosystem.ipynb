{
 "cells": [
  {
   "cell_type": "markdown",
   "id": "f401d553-c6e2-4486-a1f3-dde2064695c8",
   "metadata": {},
   "source": [
    "##### github address:\n",
    "##### https://github.com/Ali-Varposhti/JupiterNotebook_Test01"
   ]
  },
  {
   "cell_type": "markdown",
   "id": "681c7fd7-a19c-40af-ad4f-a12020004c47",
   "metadata": {},
   "source": [
    "# Data Science Tools and Ecosystem"
   ]
  },
  {
   "cell_type": "markdown",
   "id": "5fc29793-4215-4ab7-9c80-30985a62b51f",
   "metadata": {
    "tags": []
   },
   "source": [
    "#### In this notebook, We are going to summarize the Data Science Tools and Ecosystem."
   ]
  },
  {
   "cell_type": "markdown",
   "id": "e43150c1-ddd7-47d2-be85-9451438301de",
   "metadata": {},
   "source": [
    "## Objectives:"
   ]
  },
  {
   "cell_type": "markdown",
   "id": "4b1f5b68-5e67-40fa-9887-d7d2ca1c4df2",
   "metadata": {},
   "source": [
    "#### -popular languages that Data Scientists\n",
    "#### -commonly used libraries used by Data Scientists\n",
    "#### -evaluating arithmetic expressions"
   ]
  },
  {
   "cell_type": "markdown",
   "id": "de5a2869-c79a-47d6-9326-2fc8c4bbab16",
   "metadata": {},
   "source": [
    "##### Some of the popular languages that Data Scientists use are:\n",
    "1. Python\n",
    "2. R\n",
    "3. SQL"
   ]
  },
  {
   "cell_type": "markdown",
   "id": "8e47c054-8576-417f-a7f3-7150a69f1d7f",
   "metadata": {},
   "source": [
    "##### Some of the commonly used libraries used by Data Scientists include:\n",
    "1. Tensorflow\n",
    "2. ggplot\n",
    "3. Numpy"
   ]
  },
  {
   "cell_type": "markdown",
   "id": "fd171c06-92cb-4ae8-83db-b84aa2b1b6b3",
   "metadata": {},
   "source": [
    "|Data Science Tools|\n",
    "|------------------|\n",
    "|Anaconda|\n",
    "|Jupiter Notebook|\n",
    "|VS code|\n"
   ]
  },
  {
   "cell_type": "markdown",
   "id": "0c827606-c999-4640-8b08-79612d6b9bb2",
   "metadata": {},
   "source": [
    "### Below are a few examples of evaluating arithmetic expressions in Python\n"
   ]
  },
  {
   "cell_type": "code",
   "execution_count": 1,
   "id": "1d27b6e5-a63e-413d-881f-8fb4b0cdbaa0",
   "metadata": {
    "tags": []
   },
   "outputs": [
    {
     "data": {
      "text/plain": [
       "17"
      ]
     },
     "execution_count": 1,
     "metadata": {},
     "output_type": "execute_result"
    }
   ],
   "source": [
    "#This a simple arithmetic expression to mutiply then add integers\n",
    "(3*4)+5"
   ]
  },
  {
   "cell_type": "code",
   "execution_count": 2,
   "id": "ee775e49-4020-4d82-847d-10726a8d7c4f",
   "metadata": {
    "tags": []
   },
   "outputs": [
    {
     "name": "stdout",
     "output_type": "stream",
     "text": [
      "3.3333333333333335\n"
     ]
    }
   ],
   "source": [
    "#This will convert 200 minutes to hours by diving by 60\n",
    "m=200\n",
    "x=60\n",
    "hours=(m/x)\n",
    "print(hours)"
   ]
  },
  {
   "cell_type": "markdown",
   "id": "d71df7ad-961a-4784-bb7d-e09fee8765ee",
   "metadata": {},
   "source": [
    "# Author:\n",
    "#### Ali Varposhti"
   ]
  },
  {
   "cell_type": "markdown",
   "id": "b9fbf7d8-57ef-4944-ba4f-9023d0df9f2c",
   "metadata": {},
   "source": [
    "##### github address:\n",
    "##### https://github.com/Ali-Varposhti/JupiterNotebook_Test01"
   ]
  },
  {
   "cell_type": "code",
   "execution_count": null,
   "id": "bca6b637-d4bb-4542-b004-13b651d5a1b8",
   "metadata": {},
   "outputs": [],
   "source": []
  }
 ],
 "metadata": {
  "kernelspec": {
   "display_name": "Python 3 (ipykernel)",
   "language": "python",
   "name": "python3"
  },
  "language_info": {
   "codemirror_mode": {
    "name": "ipython",
    "version": 3
   },
   "file_extension": ".py",
   "mimetype": "text/x-python",
   "name": "python",
   "nbconvert_exporter": "python",
   "pygments_lexer": "ipython3",
   "version": "3.11.3"
  }
 },
 "nbformat": 4,
 "nbformat_minor": 5
}
